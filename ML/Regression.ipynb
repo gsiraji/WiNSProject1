{
 "cells": [
  {
   "cell_type": "markdown",
   "id": "d15773d1",
   "metadata": {},
   "source": [
    "The file 'weatherHistory.csv'has 96,454 lines, each one corresponding to a data point. Each row (i.e., data point), has several columns. Read the data file. Note that the first line is the header describing each column."
   ]
  },
  {
   "cell_type": "code",
   "execution_count": 1,
   "id": "638eeb5a",
   "metadata": {},
   "outputs": [
    {
     "data": {
      "text/plain": [
       "Index(['Date', 'Summary', 'Precip', 'Temperature', 'Apparent_Temperature',\n",
       "       'Humidity', 'Wind_Speed', 'Wind_Bearing', 'Visibility', 'Loud_Cover',\n",
       "       'Pressure', 'Daily_Summary'],\n",
       "      dtype='object')"
      ]
     },
     "execution_count": 1,
     "metadata": {},
     "output_type": "execute_result"
    }
   ],
   "source": [
    "import pandas as pd\n",
    "\n",
    "df_weather = pd.read_csv('weatherHistory.csv')\n",
    "df_weather.columns"
   ]
  },
  {
   "cell_type": "markdown",
   "id": "33a2c9a6",
   "metadata": {},
   "source": [
    "Use the data above to set y to be the temperatures and X to be the following columns (in order): [Apparent_Temperature, Humidity, Wind_Speed, Wind_Bearing, Visibility, Pressure] Basically, we want to see whether we can predict the temperature, using the features in X."
   ]
  },
  {
   "cell_type": "code",
   "execution_count": 2,
   "id": "401704ec",
   "metadata": {},
   "outputs": [],
   "source": [
    "y = df_weather['Temperature']\n",
    "X = df_weather[['Apparent_Temperature', 'Humidity', 'Wind_Speed', 'Wind_Bearing', 'Visibility', 'Pressure']]\n"
   ]
  },
  {
   "cell_type": "code",
   "execution_count": 3,
   "id": "bf5b30c6",
   "metadata": {},
   "outputs": [
    {
     "data": {
      "text/html": [
       "<div>\n",
       "<style scoped>\n",
       "    .dataframe tbody tr th:only-of-type {\n",
       "        vertical-align: middle;\n",
       "    }\n",
       "\n",
       "    .dataframe tbody tr th {\n",
       "        vertical-align: top;\n",
       "    }\n",
       "\n",
       "    .dataframe thead th {\n",
       "        text-align: right;\n",
       "    }\n",
       "</style>\n",
       "<table border=\"1\" class=\"dataframe\">\n",
       "  <thead>\n",
       "    <tr style=\"text-align: right;\">\n",
       "      <th></th>\n",
       "      <th>Apparent_Temperature</th>\n",
       "      <th>Humidity</th>\n",
       "      <th>Wind_Speed</th>\n",
       "      <th>Wind_Bearing</th>\n",
       "      <th>Visibility</th>\n",
       "      <th>Pressure</th>\n",
       "    </tr>\n",
       "  </thead>\n",
       "  <tbody>\n",
       "    <tr>\n",
       "      <th>0</th>\n",
       "      <td>7.388889</td>\n",
       "      <td>0.89</td>\n",
       "      <td>14.1197</td>\n",
       "      <td>251.0</td>\n",
       "      <td>15.8263</td>\n",
       "      <td>1015.13</td>\n",
       "    </tr>\n",
       "    <tr>\n",
       "      <th>1</th>\n",
       "      <td>7.227778</td>\n",
       "      <td>0.86</td>\n",
       "      <td>14.2646</td>\n",
       "      <td>259.0</td>\n",
       "      <td>15.8263</td>\n",
       "      <td>1015.63</td>\n",
       "    </tr>\n",
       "    <tr>\n",
       "      <th>2</th>\n",
       "      <td>9.377778</td>\n",
       "      <td>0.89</td>\n",
       "      <td>3.9284</td>\n",
       "      <td>204.0</td>\n",
       "      <td>14.9569</td>\n",
       "      <td>1015.94</td>\n",
       "    </tr>\n",
       "    <tr>\n",
       "      <th>3</th>\n",
       "      <td>5.944444</td>\n",
       "      <td>0.83</td>\n",
       "      <td>14.1036</td>\n",
       "      <td>269.0</td>\n",
       "      <td>15.8263</td>\n",
       "      <td>1016.41</td>\n",
       "    </tr>\n",
       "    <tr>\n",
       "      <th>4</th>\n",
       "      <td>6.977778</td>\n",
       "      <td>0.83</td>\n",
       "      <td>11.0446</td>\n",
       "      <td>259.0</td>\n",
       "      <td>15.8263</td>\n",
       "      <td>1016.51</td>\n",
       "    </tr>\n",
       "    <tr>\n",
       "      <th>...</th>\n",
       "      <td>...</td>\n",
       "      <td>...</td>\n",
       "      <td>...</td>\n",
       "      <td>...</td>\n",
       "      <td>...</td>\n",
       "      <td>...</td>\n",
       "    </tr>\n",
       "    <tr>\n",
       "      <th>96448</th>\n",
       "      <td>26.016667</td>\n",
       "      <td>0.43</td>\n",
       "      <td>10.9963</td>\n",
       "      <td>31.0</td>\n",
       "      <td>16.1000</td>\n",
       "      <td>1014.36</td>\n",
       "    </tr>\n",
       "    <tr>\n",
       "      <th>96449</th>\n",
       "      <td>24.583333</td>\n",
       "      <td>0.48</td>\n",
       "      <td>10.0947</td>\n",
       "      <td>20.0</td>\n",
       "      <td>15.5526</td>\n",
       "      <td>1015.16</td>\n",
       "    </tr>\n",
       "    <tr>\n",
       "      <th>96450</th>\n",
       "      <td>22.038889</td>\n",
       "      <td>0.56</td>\n",
       "      <td>8.9838</td>\n",
       "      <td>30.0</td>\n",
       "      <td>16.1000</td>\n",
       "      <td>1015.66</td>\n",
       "    </tr>\n",
       "    <tr>\n",
       "      <th>96451</th>\n",
       "      <td>21.522222</td>\n",
       "      <td>0.60</td>\n",
       "      <td>10.5294</td>\n",
       "      <td>20.0</td>\n",
       "      <td>16.1000</td>\n",
       "      <td>1015.95</td>\n",
       "    </tr>\n",
       "    <tr>\n",
       "      <th>96452</th>\n",
       "      <td>20.438889</td>\n",
       "      <td>0.61</td>\n",
       "      <td>5.8765</td>\n",
       "      <td>39.0</td>\n",
       "      <td>15.5204</td>\n",
       "      <td>1016.16</td>\n",
       "    </tr>\n",
       "  </tbody>\n",
       "</table>\n",
       "<p>96453 rows × 6 columns</p>\n",
       "</div>"
      ],
      "text/plain": [
       "       Apparent_Temperature  Humidity  Wind_Speed  Wind_Bearing  Visibility  \\\n",
       "0                  7.388889      0.89     14.1197         251.0     15.8263   \n",
       "1                  7.227778      0.86     14.2646         259.0     15.8263   \n",
       "2                  9.377778      0.89      3.9284         204.0     14.9569   \n",
       "3                  5.944444      0.83     14.1036         269.0     15.8263   \n",
       "4                  6.977778      0.83     11.0446         259.0     15.8263   \n",
       "...                     ...       ...         ...           ...         ...   \n",
       "96448             26.016667      0.43     10.9963          31.0     16.1000   \n",
       "96449             24.583333      0.48     10.0947          20.0     15.5526   \n",
       "96450             22.038889      0.56      8.9838          30.0     16.1000   \n",
       "96451             21.522222      0.60     10.5294          20.0     16.1000   \n",
       "96452             20.438889      0.61      5.8765          39.0     15.5204   \n",
       "\n",
       "       Pressure  \n",
       "0       1015.13  \n",
       "1       1015.63  \n",
       "2       1015.94  \n",
       "3       1016.41  \n",
       "4       1016.51  \n",
       "...         ...  \n",
       "96448   1014.36  \n",
       "96449   1015.16  \n",
       "96450   1015.66  \n",
       "96451   1015.95  \n",
       "96452   1016.16  \n",
       "\n",
       "[96453 rows x 6 columns]"
      ]
     },
     "execution_count": 3,
     "metadata": {},
     "output_type": "execute_result"
    }
   ],
   "source": [
    "X"
   ]
  },
  {
   "cell_type": "markdown",
   "id": "afb243da",
   "metadata": {},
   "source": [
    "We are now going to using a well-known ML library called sklearn. If you do not have it installed, please do so using this instruction: https://scikit-learn.org/stable/install.html\n",
    "\n",
    "sklearn comes with many models already implemented, below we import the standard linear regression, Ridge, and Lasso models from sklearn. We also import a method that can divide our data into train/test sets. Please run the cell below."
   ]
  },
  {
   "cell_type": "code",
   "execution_count": 7,
   "id": "e4c7a6fc",
   "metadata": {},
   "outputs": [],
   "source": [
    "from sklearn.linear_model import LinearRegression, Ridge, Lasso \n",
    "from sklearn.model_selection import train_test_split "
   ]
  },
  {
   "cell_type": "markdown",
   "id": "8de2599f",
   "metadata": {},
   "source": [
    "This library is very easy to use. We briefly went over it in the class but please use the API and user guide  ( https://scikit-learn.org) to learn exactly how to use this library.\n",
    "\n",
    "For instance, learning a linear regression model using sklearn can be done in two lines:\n",
    "\n",
    "linearModel = LinearRegression() \n",
    "\n",
    "linearModel.fit(x_train, y_train)"
   ]
  },
  {
   "cell_type": "code",
   "execution_count": 8,
   "id": "8a15ff68",
   "metadata": {},
   "outputs": [],
   "source": [
    "X_train, X_test, y_train, y_test = train_test_split(X, y, test_size=0.2)"
   ]
  },
  {
   "cell_type": "markdown",
   "id": "16ef6753",
   "metadata": {},
   "source": [
    "Use sklearn to train a LinearRegression model using the data above. Report the performance of the model on the test data (use sklearn's MSE implementation: https://scikit-learn.org/stable/modules/generated/sklearn.metrics.mean_squared_error.html). Note that the .predict method can be used to get the y_predictions for the test xs."
   ]
  },
  {
   "cell_type": "code",
   "execution_count": 9,
   "id": "5b6159a2",
   "metadata": {},
   "outputs": [
    {
     "data": {
      "text/plain": [
       "0.9020477260026524"
      ]
     },
     "execution_count": 9,
     "metadata": {},
     "output_type": "execute_result"
    }
   ],
   "source": [
    "from sklearn.metrics import mean_squared_error\n",
    "reg = LinearRegression().fit(X_train, y_train)\n",
    "y_pred = reg.predict(X_test)\n",
    "mean_squared_error(y_pred, y_test)"
   ]
  },
  {
   "cell_type": "markdown",
   "id": "2c9b16cd",
   "metadata": {},
   "source": [
    "Instead of LinearRegression, use the Ridge and Lasso functions. You can keep the default alpha (note that what we called lambda in the class, the hyperparameter for regularization, is called alpha in sklearn. It is the same thing)."
   ]
  },
  {
   "cell_type": "code",
   "execution_count": 10,
   "id": "50a529d1",
   "metadata": {},
   "outputs": [
    {
     "data": {
      "text/plain": [
       "0.9020454173356446"
      ]
     },
     "execution_count": 10,
     "metadata": {},
     "output_type": "execute_result"
    }
   ],
   "source": [
    "ridge = Ridge().fit(X_train, y_train)\n",
    "y_pred = ridge.predict(X_test)\n",
    "mean_squared_error(y_pred, y_test)"
   ]
  },
  {
   "cell_type": "code",
   "execution_count": 11,
   "id": "e130c137",
   "metadata": {},
   "outputs": [
    {
     "data": {
      "text/plain": [
       "0.9834605070531842"
      ]
     },
     "execution_count": 11,
     "metadata": {},
     "output_type": "execute_result"
    }
   ],
   "source": [
    "lasso = Lasso().fit(X_train, y_train)\n",
    "y_pred = lasso.predict(X_test)\n",
    "mean_squared_error(y_pred, y_test)"
   ]
  },
  {
   "cell_type": "markdown",
   "id": "adb946ed",
   "metadata": {},
   "source": [
    "Print the learned parameters for the Ridge and Lasso models (using .coef_).  Note that the parameters below correspond to the feature vector ( [Apparent_Temperature, Humidity, Wind_Speed, Wind_Bearing, Visibility, Pressure]), in order. I.e., the first value corresponds to \"Apparent_Temperature\", etc. What is the difference between the ridge and lasso parameters? Which features, if any, have been eliminated by lasso?\n"
   ]
  },
  {
   "cell_type": "code",
   "execution_count": 12,
   "id": "9f181312",
   "metadata": {},
   "outputs": [
    {
     "name": "stdout",
     "output_type": "stream",
     "text": [
      "[ 8.72095759e-01 -1.43578408e+00  7.90041844e-02 -4.16601539e-04\n",
      "  8.69713716e-03 -2.32945504e-04]\n",
      "[ 8.80008890e-01 -0.00000000e+00  6.84066595e-02 -2.68151451e-04\n",
      "  0.00000000e+00 -1.73722438e-04]\n"
     ]
    }
   ],
   "source": [
    "print(ridge.coef_)\n",
    "print(lasso.coef_)"
   ]
  }
 ],
 "metadata": {
  "kernelspec": {
   "display_name": "Python 3 (ipykernel)",
   "language": "python",
   "name": "python3"
  },
  "language_info": {
   "codemirror_mode": {
    "name": "ipython",
    "version": 3
   },
   "file_extension": ".py",
   "mimetype": "text/x-python",
   "name": "python",
   "nbconvert_exporter": "python",
   "pygments_lexer": "ipython3",
   "version": "3.9.7"
  }
 },
 "nbformat": 4,
 "nbformat_minor": 5
}
